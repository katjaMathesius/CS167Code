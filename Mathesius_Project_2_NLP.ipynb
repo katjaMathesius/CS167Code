{
  "nbformat": 4,
  "nbformat_minor": 0,
  "metadata": {
    "colab": {
      "name": "Project_2_NLP.ipynb",
      "provenance": [],
      "collapsed_sections": [],
      "machine_shape": "hm"
    },
    "kernelspec": {
      "name": "python3",
      "display_name": "Python 3"
    },
    "language_info": {
      "name": "python"
    }
  },
  "cells": [
    {
      "cell_type": "markdown",
      "metadata": {
        "id": "vu0Kz0Nq4ui4"
      },
      "source": [
        "# Project \\#2 Starter Code\n"
      ]
    },
    {
      "cell_type": "markdown",
      "source": [
        "Name: Katja Mathesius\n",
        "\n",
        "Problem description: For this problem we want to automate the classification of movie reviews as being either positive or negative. The dataset for this project consists of reviews sourced from IMDB that have been classified as positive or negative. To analyze this data we will utilize the deep learning technique of sentiment analysis to learn based on which words occur in a review whether a review should be classified as positive or negative. A model that performs well at this task could then be utilized to get a better idea of people's perceptions of a film, and would be especially useful in contexts where a raw numeric score isn't by default part of the film review."
      ],
      "metadata": {
        "id": "wbxrFyEZI-cV"
      }
    },
    {
      "cell_type": "markdown",
      "source": [
        "Sources Used <br />\n",
        "  Stack Overflow:\n",
        "    - Add a word count column (muninn): https://stackoverflow.com/questions/46429033/how-do-i-count-the-total-number-of-words-in-a-pandas-dataframe-cell-and-add-thos <br />\n",
        "    - Define a value outside of 1/0 to be the true/false in precision/recall scoring (Steve): https://stackoverflow.com/questions/50203106/valueerror-pos-label-1-is-not-a-valid-label-arrayneg-pos-dtype-u3 <br />\n",
        "     - Disable a warning (used in the data search tool) (Garrett): https://stackoverflow.com/questions/20625582/how-to-deal-with-settingwithcopywarning-in-pandas <br />\n",
        "  Other: <br />\n",
        "    - Stop truncating strings in pandas output (used in the data search tool): https://coding-stream-of-consciousness.com/2020/04/17/python-pandas-stop-truncating-strings/ <br />"
      ],
      "metadata": {
        "id": "5r3tn7YsWGyk"
      }
    },
    {
      "cell_type": "markdown",
      "metadata": {
        "id": "NBZAVjcWhgBV"
      },
      "source": [
        "# Input Pipeline (sklearn):"
      ]
    },
    {
      "cell_type": "code",
      "metadata": {
        "colab": {
          "base_uri": "https://localhost:8080/",
          "height": 223
        },
        "id": "12XGv2fIfTSr",
        "outputId": "a1555653-3ed3-49d8-8f4a-1c15289aa326"
      },
      "source": [
        "from google.colab import drive\n",
        "import pandas as pd\n",
        "drive.mount('/content/drive')\n",
        "data = pd.read_csv('/content/drive/My Drive/Data/CS_167_Machine_Learning/IMDB_dataset.csv')\n",
        "data.head()"
      ],
      "execution_count": 1,
      "outputs": [
        {
          "output_type": "stream",
          "name": "stdout",
          "text": [
            "Drive already mounted at /content/drive; to attempt to forcibly remount, call drive.mount(\"/content/drive\", force_remount=True).\n"
          ]
        },
        {
          "output_type": "execute_result",
          "data": {
            "text/plain": [
              "                                              review sentiment\n",
              "0  One of the other reviewers has mentioned that ...  positive\n",
              "1  A wonderful little production. <br /><br />The...  positive\n",
              "2  I thought this was a wonderful way to spend ti...  positive\n",
              "3  Basically there's a family where a little boy ...  negative\n",
              "4  Petter Mattei's \"Love in the Time of Money\" is...  positive"
            ],
            "text/html": [
              "\n",
              "  <div id=\"df-d3c71786-c5c9-420b-9f17-c80cf7415894\">\n",
              "    <div class=\"colab-df-container\">\n",
              "      <div>\n",
              "<style scoped>\n",
              "    .dataframe tbody tr th:only-of-type {\n",
              "        vertical-align: middle;\n",
              "    }\n",
              "\n",
              "    .dataframe tbody tr th {\n",
              "        vertical-align: top;\n",
              "    }\n",
              "\n",
              "    .dataframe thead th {\n",
              "        text-align: right;\n",
              "    }\n",
              "</style>\n",
              "<table border=\"1\" class=\"dataframe\">\n",
              "  <thead>\n",
              "    <tr style=\"text-align: right;\">\n",
              "      <th></th>\n",
              "      <th>review</th>\n",
              "      <th>sentiment</th>\n",
              "    </tr>\n",
              "  </thead>\n",
              "  <tbody>\n",
              "    <tr>\n",
              "      <th>0</th>\n",
              "      <td>One of the other reviewers has mentioned that ...</td>\n",
              "      <td>positive</td>\n",
              "    </tr>\n",
              "    <tr>\n",
              "      <th>1</th>\n",
              "      <td>A wonderful little production. &lt;br /&gt;&lt;br /&gt;The...</td>\n",
              "      <td>positive</td>\n",
              "    </tr>\n",
              "    <tr>\n",
              "      <th>2</th>\n",
              "      <td>I thought this was a wonderful way to spend ti...</td>\n",
              "      <td>positive</td>\n",
              "    </tr>\n",
              "    <tr>\n",
              "      <th>3</th>\n",
              "      <td>Basically there's a family where a little boy ...</td>\n",
              "      <td>negative</td>\n",
              "    </tr>\n",
              "    <tr>\n",
              "      <th>4</th>\n",
              "      <td>Petter Mattei's \"Love in the Time of Money\" is...</td>\n",
              "      <td>positive</td>\n",
              "    </tr>\n",
              "  </tbody>\n",
              "</table>\n",
              "</div>\n",
              "      <button class=\"colab-df-convert\" onclick=\"convertToInteractive('df-d3c71786-c5c9-420b-9f17-c80cf7415894')\"\n",
              "              title=\"Convert this dataframe to an interactive table.\"\n",
              "              style=\"display:none;\">\n",
              "        \n",
              "  <svg xmlns=\"http://www.w3.org/2000/svg\" height=\"24px\"viewBox=\"0 0 24 24\"\n",
              "       width=\"24px\">\n",
              "    <path d=\"M0 0h24v24H0V0z\" fill=\"none\"/>\n",
              "    <path d=\"M18.56 5.44l.94 2.06.94-2.06 2.06-.94-2.06-.94-.94-2.06-.94 2.06-2.06.94zm-11 1L8.5 8.5l.94-2.06 2.06-.94-2.06-.94L8.5 2.5l-.94 2.06-2.06.94zm10 10l.94 2.06.94-2.06 2.06-.94-2.06-.94-.94-2.06-.94 2.06-2.06.94z\"/><path d=\"M17.41 7.96l-1.37-1.37c-.4-.4-.92-.59-1.43-.59-.52 0-1.04.2-1.43.59L10.3 9.45l-7.72 7.72c-.78.78-.78 2.05 0 2.83L4 21.41c.39.39.9.59 1.41.59.51 0 1.02-.2 1.41-.59l7.78-7.78 2.81-2.81c.8-.78.8-2.07 0-2.86zM5.41 20L4 18.59l7.72-7.72 1.47 1.35L5.41 20z\"/>\n",
              "  </svg>\n",
              "      </button>\n",
              "      \n",
              "  <style>\n",
              "    .colab-df-container {\n",
              "      display:flex;\n",
              "      flex-wrap:wrap;\n",
              "      gap: 12px;\n",
              "    }\n",
              "\n",
              "    .colab-df-convert {\n",
              "      background-color: #E8F0FE;\n",
              "      border: none;\n",
              "      border-radius: 50%;\n",
              "      cursor: pointer;\n",
              "      display: none;\n",
              "      fill: #1967D2;\n",
              "      height: 32px;\n",
              "      padding: 0 0 0 0;\n",
              "      width: 32px;\n",
              "    }\n",
              "\n",
              "    .colab-df-convert:hover {\n",
              "      background-color: #E2EBFA;\n",
              "      box-shadow: 0px 1px 2px rgba(60, 64, 67, 0.3), 0px 1px 3px 1px rgba(60, 64, 67, 0.15);\n",
              "      fill: #174EA6;\n",
              "    }\n",
              "\n",
              "    [theme=dark] .colab-df-convert {\n",
              "      background-color: #3B4455;\n",
              "      fill: #D2E3FC;\n",
              "    }\n",
              "\n",
              "    [theme=dark] .colab-df-convert:hover {\n",
              "      background-color: #434B5C;\n",
              "      box-shadow: 0px 1px 3px 1px rgba(0, 0, 0, 0.15);\n",
              "      filter: drop-shadow(0px 1px 2px rgba(0, 0, 0, 0.3));\n",
              "      fill: #FFFFFF;\n",
              "    }\n",
              "  </style>\n",
              "\n",
              "      <script>\n",
              "        const buttonEl =\n",
              "          document.querySelector('#df-d3c71786-c5c9-420b-9f17-c80cf7415894 button.colab-df-convert');\n",
              "        buttonEl.style.display =\n",
              "          google.colab.kernel.accessAllowed ? 'block' : 'none';\n",
              "\n",
              "        async function convertToInteractive(key) {\n",
              "          const element = document.querySelector('#df-d3c71786-c5c9-420b-9f17-c80cf7415894');\n",
              "          const dataTable =\n",
              "            await google.colab.kernel.invokeFunction('convertToInteractive',\n",
              "                                                     [key], {});\n",
              "          if (!dataTable) return;\n",
              "\n",
              "          const docLinkHtml = 'Like what you see? Visit the ' +\n",
              "            '<a target=\"_blank\" href=https://colab.research.google.com/notebooks/data_table.ipynb>data table notebook</a>'\n",
              "            + ' to learn more about interactive tables.';\n",
              "          element.innerHTML = '';\n",
              "          dataTable['output_type'] = 'display_data';\n",
              "          await google.colab.output.renderOutput(dataTable, element);\n",
              "          const docLink = document.createElement('div');\n",
              "          docLink.innerHTML = docLinkHtml;\n",
              "          element.appendChild(docLink);\n",
              "        }\n",
              "      </script>\n",
              "    </div>\n",
              "  </div>\n",
              "  "
            ]
          },
          "metadata": {},
          "execution_count": 1
        }
      ]
    },
    {
      "cell_type": "markdown",
      "metadata": {
        "id": "ICUC-PvQ5bP2"
      },
      "source": [
        "## Data Exploration:\n",
        "- Number of samples\n",
        "- Number of classes of the target variable\n",
        "- Number of words per sample\n",
        "- Distribution of sample length\n",
        "- Something else: get creative :) "
      ]
    },
    {
      "cell_type": "code",
      "metadata": {
        "id": "9kkCmgdf5ZqB",
        "colab": {
          "base_uri": "https://localhost:8080/",
          "height": 543
        },
        "outputId": "e4540918-af33-409c-b202-c68887bf43e5"
      },
      "source": [
        "import matplotlib.pyplot as plt\n",
        "## Use cells here to explore the data:\n",
        "\n",
        "#Creates a function for the readout so it can be reused later\n",
        "def data_readout(movie_data):\n",
        "  print(\"------------------------------------------------------\")\n",
        "  print(\"Results: \")\n",
        "  \n",
        "  #Gets the number of samples in the movie data\n",
        "  observations = movie_data.shape[0]\n",
        "\n",
        "  #Gets the number of classifications for review type in the movie data \n",
        "  #(i.e. Gets the length of the array of unique values in the column containing the classifications)\n",
        "  classifications = len(movie_data[\"sentiment\"].unique())\n",
        "\n",
        "  #Gets the number of words in the review and adds them to a new column\n",
        "  #Credit to 'altabq' on StackOverflow: https://stackoverflow.com/questions/46429033/how-do-i-count-the-total-number-of-words-in-a-pandas-dataframe-cell-and-add-thos\n",
        "  movie_data['word_count'] = movie_data.review.apply(lambda x: len(str(x).split(' ')))\n",
        "\n",
        "  #Gets the mean, min, and max of the word count column\n",
        "  avg_words = movie_data['word_count'].mean()\n",
        "  median_words = movie_data['word_count'].median()\n",
        "  max_words = movie_data['word_count'].max()\n",
        "  min_words = movie_data['word_count'].min()\n",
        "  sentiment_reviews = movie_data['sentiment'].value_counts()\n",
        "\n",
        "  #Prints out all the data\n",
        "  print(\"------------------------------------------------------\")\n",
        "  print(\"Film Data Overview: \")\n",
        "  print(\"Number of Observations: \", observations)\n",
        "  print(\"Number of Classes: \", classifications)\n",
        "  print(\"Average Words per Review:\", avg_words)\n",
        "  print(\"Median Words in Reviews:\", median_words)\n",
        "  print(\"Max Words in Review: \", max_words)\n",
        "  print(\"Min Words in Review: \", min_words)\n",
        "  print(\"Review Classification Distribution:\\n\", sentiment_reviews)\n",
        "  print(\"Distribution of Sample Length: \")\n",
        "  plt.hist(movie_data['word_count'])\n",
        "  plt.show()\n",
        "  print(\"------------------------------------------------------\")\n",
        "\n",
        "#Creates a copy of the data\n",
        "movie_data = data.copy()\n",
        "data_readout(movie_data)"
      ],
      "execution_count": 2,
      "outputs": [
        {
          "output_type": "stream",
          "name": "stdout",
          "text": [
            "------------------------------------------------------\n",
            "Results: \n",
            "------------------------------------------------------\n",
            "Film Data Overview: \n",
            "Number of Observations:  50000\n",
            "Number of Classes:  2\n",
            "Average Words per Review: 231.14594\n",
            "Median Words in Reviews: 173.0\n",
            "Max Words in Review:  2470\n",
            "Min Words in Review:  4\n",
            "Review Classification Distribution:\n",
            " positive    25000\n",
            "negative    25000\n",
            "Name: sentiment, dtype: int64\n",
            "Distribution of Sample Length: \n"
          ]
        },
        {
          "output_type": "display_data",
          "data": {
            "text/plain": [
              "<Figure size 432x288 with 1 Axes>"
            ],
            "image/png": "[encoded data removed]"
          },
          "metadata": {
            "needs_background": "light"
          }
        },
        {
          "output_type": "stream",
          "name": "stdout",
          "text": [
            "------------------------------------------------------\n"
          ]
        }
      ]
    },
    {
      "cell_type": "code",
      "source": [
        "# A code block for exploring the data via different parameters, as I was curious about what the min and max word count entries looked like\n",
        "options_mode = [\"id\", \"word count\", \"class\", \"containing\"]\n",
        "options_count = [\"=\",\"<\",\">\"]\n",
        "options_class = [\"positive\",\"negative\"]\n",
        "\n",
        "#Creates a copy of the data and generates the word count column\n",
        "movie_data = data.copy()\n",
        "movie_data['word_count'] = movie_data.review.apply(lambda x: len(str(x).split(' ')))\n",
        "\n",
        "#Removes the max value for column with for the duration of this data search tool (so the full review prints out instead of being truncated)\n",
        "pd.set_option('display.max_colwidth', -1)\n",
        "print(\"------------------------------------------------------\")\n",
        "print(\"Welcome the film review data exploration interface!\")\n",
        "print(\"Before we begin, please input the max number of results you'd like to display in a search: \")\n",
        "max = int(input(\"Max: \"))\n",
        "print(\"Please select a search mode from the following: \")\n",
        "print(\"Options: \", options_mode)\n",
        "selection = input(\"Mode: \")\n",
        "#Searches for the ith row of the data\n",
        "if(selection == \"id\"):\n",
        "  print(\"Please input the row number of the observation you'd like to retrieve: \")\n",
        "  identification = int(input(\"Row #: \"))\n",
        "  subset_movie_data = movie_data.iloc[identification]\n",
        "#Search for reviews with either less than, greater than or equal to a given number\n",
        "elif(selection == \"word count\"):\n",
        "  print(\"Please input the mode of word comparison you'd like to use: \")\n",
        "  print(\"Options: \", options_count)\n",
        "  count_selection = input(\"Mode: \")\n",
        "  print(\"Please input the number of words you'd like to examine: \")\n",
        "  num_words = int(input(\"Number: \"))\n",
        "  if(count_selection == \"=\"):\n",
        "    subset_movie_data = movie_data[movie_data['word_count'] == num_words]\n",
        "  elif(count_selection == \">\"):\n",
        "    subset_movie_data = movie_data[movie_data['word_count'] > num_words]\n",
        "  elif(count_selection == \"<\"):\n",
        "    subset_movie_data = movie_data[movie_data['word_count'] < num_words]\n",
        "#Search by the classification of the data\n",
        "elif(selection == \"class\"):\n",
        "  print(\"Please input the class you want to find entries for: \")\n",
        "  print(\"Options: \", options_class)\n",
        "  class_selection = input(\"Class: \")\n",
        "  subset_movie_data = movie_data[movie_data['sentiment'] == class_selection]\n",
        "#Search for reviews containing a given term\n",
        "elif(selection == \"containing\"):\n",
        "  print(\"Please input the term you want to search for: \")\n",
        "  term = input(\"Term: \")\n",
        "  subset_movie_data = movie_data[movie_data['review'].str.contains(term, case=False)]\n",
        "#Disable a chained assignment warning that was falsely generated when running the data readout\n",
        "pd.options.mode.chained_assignment = None\n",
        "#Runs the data readout on the subset\n",
        "data_readout(subset_movie_data)\n",
        "#Re-enables a chained assignment warning that was falsely generated when running the data readout\n",
        "pd.options.mode.chained_assignment = 'warn'\n",
        "print(\"Raw Data: \")\n",
        "print(subset_movie_data.head(max))\n",
        "print(\"------------------------------------------------------\")\n",
        "\n",
        "#Sets the display width back to a more managable amount after running the search\n",
        "pd.set_option('display.max_colwidth', 20)"
      ],
      "metadata": {
        "colab": {
          "base_uri": "https://localhost:8080/",
          "height": 944
        },
        "id": "Iu-2l8-1iuJG",
        "outputId": "9e70179f-6781-41ae-8d24-c2c72ad22b55"
      },
      "execution_count": 4,
      "outputs": [
        {
          "output_type": "stream",
          "name": "stderr",
          "text": [
            "/usr/local/lib/python3.7/dist-packages/ipykernel_launcher.py:11: FutureWarning: Passing a negative integer is deprecated in version 1.0 and will not be supported in future version. Instead, use None to not limit the column width.\n",
            "  # This is added back by InteractiveShellApp.init_path()\n"
          ]
        },
        {
          "output_type": "stream",
          "name": "stdout",
          "text": [
            "------------------------------------------------------\n",
            "Welcome the film review data exploration interface!\n",
            "Before we begin, please input the max number of results you'd like to display in a search: \n",
            "Max: 3\n",
            "Please select a search mode from the following: \n",
            "Options:  ['id', 'word count', 'class', 'containing']\n",
            "Mode: containing\n",
            "Please input the term you want to search for: \n",
            "Term: goat\n",
            "------------------------------------------------------\n",
            "Results: \n",
            "------------------------------------------------------\n",
            "Film Data Overview: \n",
            "Number of Observations:  111\n",
            "Number of Classes:  2\n",
            "Average Words per Review: 364.0900900900901\n",
            "Median Words in Reviews: 287.0\n",
            "Max Words in Review:  982\n",
            "Min Words in Review:  41\n",
            "Review Classification Distribution:\n",
            " negative    61\n",
            "positive    50\n",
            "Name: sentiment, dtype: int64\n",
            "Distribution of Sample Length: \n"
          ]
        },
        {
          "output_type": "display_data",
          "data": {
            "text/plain": [
              "<Figure size 432x288 with 1 Axes>"
            ],
            "image/png": "[encoded data removed]"
          },
          "metadata": {
            "needs_background": "light"
          }
        },
        {
          "output_type": "stream",
          "name": "stdout",
          "text": [
            "------------------------------------------------------\n",
            "Raw Data: \n",
            "                                                                                                                                                                                                                                                                                                                                                                                                                                                                                                                                                                                                                                                                                                                                                                                                                                                                                                                                                                                                                                                                                                                                                                                                                                                                                                                                                                                                                                                                                                                                                                                                                                                                                                                                                                                                                                                                                                                                                                                                                                                                                                                                                                                                                                                                                                                                                                                                                                                                                                                                                                                                                                                                                                                                                                                                                                                                                                                                                                                                                                                                                                                                                                                                                                                                                                                                                                                                                                                                                                                                                                                                                                                                                                                                                                                                                                                                                                                                                                                                                                                                                                                                                                                                                                                                                                                                                                                                                                                                                                                                                                                                                                                  review  \\\n",
            "191  The Golden Door is the story of a Sicilian family's journey from the Old World (Italy) to the New World (America). Salvatore, a middle-aged man who hopes for a more fruitful life, persuades his family to leave their homeland behind in Sicily, take the arduous journey across the raging seas, and inhabit a land whose rivers supposedly flow with milk. In short, they believe that by risking everything for the New World their dreams of prosperity will be fulfilled. The imagery of the New World is optimistic, clever and highly imaginative. Silver coins rain from heaven upon Salvatore as he anticipates how prosperous he'll be in the New World; carrots and onions twice the size of human beings are shown being harvested to suggest wealth and health, and rivers of milk are swam in and flow through the minds of those who anticipate what the New World will yield. All of this imagery is surrealistically interwoven with the characters and helps nicely compliment the gritty realism that the story unfolds to the audience. The contrast between this imagery versus the dark reality of the Sicilian people helps provide hope while they're aboard the ship to the New World.<br /><br />The voyage to the New World is shot almost in complete darkness, especially when the seas tempests roar and nearly kill the people within. The dark reality I referred to is the Old World and the journey itself to the New World. The Old World is depicted as somewhat destitute and primitive. This is shown as Salvatore scrambles together to sell what few possessions he has left (donkeys, goats and rabbits) in order to obtain the appropriate clothing he needs to enter the New World. I thought it was rather interesting that these people believed they had to conform to a certain dress code in order to be accepted in the New World; it was almost suggesting that people had to fit a particular stereotype or mold in order to be recognized as morally fit. The most powerful image in the film was when the ship is leaving their homeland and setting sail for the New World. This shot shows an overhead view of a crowd of people who slowly seem to separate from one another, depicting the separation between the Old and New Worlds. This shot also suggested that the people were being torn away from all that was once familiar, wanted to divorce from their previous dark living conditions and were desirous to enter a world that held more promise.<br /><br />As later contrasted to how the New World visually looks, the Old World seems dark and bleak as compared to the bright yet foggy New World. I thought it was particularly interesting that the Statue of Liberty is never shown through the fog at Ellis Island, but is remained hidden. I think this was an intentional directing choice that seemed to negate the purpose of what the Statue of Liberty stands for: \"Give me your poor, your tired, your hungry\" seemed like a joke in regards to what these people had to go through when arriving at the New World. Once they arrived in the Americas, they had to go through rather humiliating tests (i.e. delousing, mathematics, puzzles, etc.) in order to prove themselves as fit for the New World. These tests completely changed the perspectives of the Sicilian people. In particular, Salvatore's mother had the most difficult time subjecting herself to the rules and laws of the New World, feeling more violated than treated with respect. Where their dreams once provided hope and optimism for what the New World would provide, the reality of what the New World required was disparaging and rude. Salvatore doesn't change much other than his attitude towards what he felt the New World would be like versus what the New World actually was seemed disappointing to him. This attitude was shared by mostly everyone who voyaged with him. Their character arcs deal more with a cherished dream being greatly upset and a dark reality that had to be accepted.<br /><br />The film seems to make a strong commentary on preparing oneself to enter a heavenly and civilized society. Cleanliness, marriage and intelligence are prerequisites. Adhering to these rules is to prevent disease, immoral behavior and stupidity from dominating. Perhaps this is a commentary on how America has learned from the failings of other nations and so was purposefully established to secure that these plagues did not infest and destruct. Though the rules seemed rigid, they were there to protect and help the people flourish.   \n",
            "464  When Carol (Vanessa Hidalgo) starts looking into her brother's death, she begins to suspect something more sinister than \"natural causes\". The closer she gets to the truth, the more of a threat she becomes to her sister-in-law, Fiona (Helga Line), and the rest of the local Satanists. They'll do whatever is necessary to put a stop her nosy ways.<br /><br />If you're into sleazy, Satanic-themed movies, Black Candles has a lot to offer. The movie is filled with plenty of nudity and ritualistic soft-core sex. One scene in particular involving a young woman and a goat must be seen to be believed. Unfortunately, all the sleaze in the world can't save Black Candles. Most of the movie is a total bore. Other than the one scene I've already mentioned, the numerous sex scenes aren't shocking and certainly aren't sexy. The acting is spotty at best. Even genre favorite Helga Line gives a disappointing performance. The plot really doesn't matter. Its main function seems to be to hold the string of dull sex scenes together. I'm only familiar with one other movie directed by Jose Ramon Larraz. Compared with his Daughters of Darkness that masterfully mixes eroticism and horror, Black Candles comes off as amateurish. 3/10 is about the best I can do.                                                                                                                                                                                                                                                                                                                                                                                                                                                                                                                                                                                                                                                                                                                                                                                                                                                                                                                                                                                                                                                                                                                                                                                                                                                                                                                                                                                                                                                                                                                                                                                                                                                                                                                                                                                                                                                                                                                                                                                                                                                                                                                                                                                                                                                                                                                                                                                                                                                                                                                                                                                                                                                                                                                                                                                                                                                                                                                                                                                                                                                                                                                                                                                                                                                                                                                                                   \n",
            "649  1983's \"Frightmare\" is an odd little film. The director seems to be trying to combine the atmosphere of classic '30s/'40s style horror movies with the shock factor of the then-exploding '80s slasher genre. It isn't totally successful (mostly due to very obvious budgetary restraints, and the less-than-professional caliber of its cast of young actors) but it still has its moments, mostly due to the classy performance (classier than the movie deserves) by the late German actor Ferdinand Mayne, who plays an aging old time horror movie star (ala Vincent Price) named \"Conrad Ratzoff.\" At the beginning of the movie we meet the has-been horror star as he's shooting a commercial for dentures and we quickly learn that ol' Conrad is a bit of a hoity-toity, prima donna jerk-off. Just when you think he couldn't be any more un-likable, the commercial director berates Conrad for blowing a take for the umpteenth time and the old goat pushes him off a balcony to his death. Nice, huh? Conrad then visits some fans at a college campus horror movie club, unfortunately he suffers a heart attack in the middle of his speech to them and eventually ends up back at his mansion waiting to die. Still feisty even at Death's door, he manages to do away with a despised business associate by smothering him with a pillow before he finally kicks the bucket himself. Conrad is then laid to rest in true Hollywood style in a high tech neon tomb with video screens above the casket, which will play personal video messages from Conrad himself for visitors who enter to pay their respects.<br /><br />It is at this point that the kids from the college Horror Movie Society decide to pay Conrad's grave an after hours visit, breaking into the tomb and taking his body back home with them for an all night party. (Not exactly my idea of fun, but hey, these are characters in an '80s horror film. Logic has no place here.) The college kids spend the evening having dinner with Conrad's body seated in a place of honor, posing for photos with it and even dancing around the room with it, before parking Conrad and his coffin in the attic, planning to return him to his crypt in the morning. In the meantime, Mrs. Ratzoff, distraught over the theft of her husband's body, has called in a psychic friend to try and \"reach\" Conrad through a seance. You can pretty much figure out the rest from here. Since Conrad wasn't a very nice guy in life, it's not much of a stretch to assume that he won't be any friendlier in death. Psychic Lady makes contact with Conrad and he re-awakens in predictably ticked off fashion, then spends the rest of the movie strolling around the corridors of the students' ridiculously huge house, picking off the young grave robbers one by one. This is where the movie falls apart. Endless scenes of teens wandering around empty hallways saying \"Hello? Is anyone there?\" are intercut with occasional bursts of violence (we do get a pretty gnarly decapitation scene, which is the highlight of the movie) before the last two survivors finally figure out (WAY later than any semi-intelligent people would have figured out the same thing...but again, we're in an '80s horror film!) that the only way to stop the mayhem is to get Conrad's body back to its crypt where it belongs. The sluggish pacing is padded out with a lot of weird lighting and dry ice fog effects backed by a soundtrack made up almost entirely of sound effects rather than music(thunder, moans and groans, howls, etc.) that becomes severely annoying after a while.<br /><br />I can't really recommend \"Frightmare\" to anyone who didn't grow up watching cheap movies like this on late night cable back in the '80s. \"Modern Horror\" fans will doubtlessly find \"Frightmare\" incredibly slow moving and goofy. If you came of age in that magical decade, however, you may get a blast of nostalgia from \"Frightmare.\" Fans of Jeffrey (\"Re-Animator\") Combs may also want to check it out, as the future Dr. West appears in an early role here as one of the unlucky film students.<br /><br />I will advise the reader to avoid the version of this film on the EastWestDVD label (paired with Roy Ward's \"Vault of Horror\" and sold at dollar stores) because the print quality is terrible. I'm told the film has gotten a deluxe release via the fine folks at Troma, which seems appropriate. If you're a Troma kind of person then \"Frightmare\" will be right up your alley.                                                       \n",
            "\n",
            "    sentiment  word_count  \n",
            "191  positive  762         \n",
            "464  negative  212         \n",
            "649  negative  770         \n",
            "------------------------------------------------------\n"
          ]
        }
      ]
    },
    {
      "cell_type": "markdown",
      "metadata": {
        "id": "ZSuguZ6u5lUl"
      },
      "source": [
        "## Data Preparation\n",
        "\n",
        "I'm providing you with code that cleans the reviews by making it all lowercase letters and removing stop words. The three cells below do this for you. I still want you to explain what you did with the data here. "
      ]
    },
    {
      "cell_type": "code",
      "metadata": {
        "id": "YV4FfvLegTSh",
        "colab": {
          "base_uri": "https://localhost:8080/"
        },
        "outputId": "4c069eae-a5ad-4419-86b9-4dff9cb7bc53"
      },
      "source": [
        "from bs4 import BeautifulSoup\n",
        "import re\n",
        "import nltk\n",
        "#only do next line once\n",
        "nltk.download() #in Corpora tab, download stopwords\n",
        "from nltk.corpus import stopwords\n",
        "from sklearn.model_selection import train_test_split\n",
        "#The NLTK downloader will open, you need to select (d) for Download, and then 'stopwords'then (q) to quit"
      ],
      "execution_count": 3,
      "outputs": [
        {
          "name": "stdout",
          "output_type": "stream",
          "text": [
            "NLTK Downloader\n",
            "---------------------------------------------------------------------------\n",
            "    d) Download   l) List    u) Update   c) Config   h) Help   q) Quit\n",
            "---------------------------------------------------------------------------\n",
            "Downloader> d\n",
            "\n",
            "Download which package (l=list; x=cancel)?\n",
            "  Identifier> stopwords\n",
            "    Downloading package stopwords to /root/nltk_data...\n",
            "      Package stopwords is already up-to-date!\n",
            "\n",
            "---------------------------------------------------------------------------\n",
            "    d) Download   l) List    u) Update   c) Config   h) Help   q) Quit\n",
            "---------------------------------------------------------------------------\n",
            "Downloader> q\n"
          ]
        }
      ]
    },
    {
      "cell_type": "code",
      "metadata": {
        "id": "tTEr6vRUgOUs"
      },
      "source": [
        "#This is a function that takes in a review, makes sure it is only lower case letters and removes stopwords.\n",
        "#It returns the cleaned review text.\n",
        "def clean_review(review):\n",
        "    #input is a string review\n",
        "    #return is review cleaned of all punctuation, lowercase, and removed nltk stopwords\n",
        "    letters_only = re.sub(\"[^a-zA-Z]\",\" \",review)\n",
        "    lower_case = letters_only.lower()\n",
        "    words = lower_case.split()\n",
        "    for stop_word in stopwords.words(\"english\"):\n",
        "        while stop_word in words:\n",
        "            words.remove(stop_word)\n",
        "\n",
        "    #Adds a check to remove the some of the common formatting codes (skipping bold -> <\"strong\">, because that's an actual common english word)\n",
        "    HTML_terms = [\"br\",\"p\",\"em\",\"ol\",\"li\",\"ul\",\"q\"]\n",
        "    for term in HTML_terms:\n",
        "        while term in words:\n",
        "            words.remove(term)\n",
        "\n",
        "    cleaned = \" \".join(words)\n",
        "    return cleaned"
      ],
      "execution_count": 4,
      "outputs": []
    },
    {
      "cell_type": "code",
      "metadata": {
        "id": "QEjHsILZgk9V"
      },
      "source": [
        "#process the data\n",
        "cleaned_text = []\n",
        "for i in range(len(data)):\n",
        "    cleaned_text.append(clean_review(data[\"review\"][i]))  "
      ],
      "execution_count": 5,
      "outputs": []
    },
    {
      "cell_type": "code",
      "metadata": {
        "id": "LMg3P0ZNBvGM",
        "colab": {
          "base_uri": "https://localhost:8080/"
        },
        "outputId": "13fc07eb-4376-49fc-a79c-ed4c51de061b"
      },
      "source": [
        "cleaned_text[:5]"
      ],
      "execution_count": 12,
      "outputs": [
        {
          "output_type": "execute_result",
          "data": {
            "text/plain": [
              "['one reviewers mentioned watching oz episode hooked right exactly happened first thing struck oz brutality unflinching scenes violence set right word go trust show faint hearted timid show pulls punches regards drugs sex violence hardcore classic use word called oz nickname given oswald maximum security state penitentary focuses mainly emerald city experimental section prison cells glass fronts face inwards privacy high agenda city home many aryans muslims gangstas latinos christians italians irish scuffles death stares dodgy dealings shady agreements never far away would say main appeal show due fact goes shows dare forget pretty pictures painted mainstream audiences forget charm forget romance oz mess around first episode ever saw struck nasty surreal say ready watched developed taste oz got accustomed high levels graphic violence violence injustice crooked guards sold nickel inmates kill order get away well mannered middle class inmates turned prison bitches due lack street skills prison experience watching oz may become comfortable uncomfortable viewing thats get touch darker side',\n",
              " 'wonderful little production filming technique unassuming old time bbc fashion gives comforting sometimes discomforting sense realism entire piece actors extremely well chosen michael sheen got polari voices pat truly see seamless editing guided references williams diary entries well worth watching terrificly written performed piece masterful production one great master comedy life realism really comes home little things fantasy guard rather use traditional dream techniques remains solid disappears plays knowledge senses particularly scenes concerning orton halliwell sets particularly flat halliwell murals decorating every surface terribly well done',\n",
              " 'thought wonderful way spend time hot summer weekend sitting air conditioned theater watching light hearted comedy plot simplistic dialogue witty characters likable even well bread suspected serial killer may disappointed realize match point risk addiction thought proof woody allen still fully control style many us grown love laughed one woody comedies years dare say decade never impressed scarlet johanson managed tone sexy image jumped right average spirited young woman may crown jewel career wittier devil wears prada interesting superman great comedy go see friends',\n",
              " 'basically family little boy jake thinks zombie closet parents fighting time movie slower soap opera suddenly jake decides become rambo kill zombie ok first going make film must decide thriller drama drama movie watchable parents divorcing arguing like real life jake closet totally ruins film expected see boogeyman similar movie instead watched drama meaningless thriller spots well playing parents descent dialogs shots jake ignore',\n",
              " 'petter mattei love time money visually stunning film watch mr mattei offers us vivid portrait human relations movie seems telling us money power success people different situations encounter variation arthur schnitzler play theme director transfers action present time new york different characters meet connect one connected one way another next person one seems know previous point contact stylishly film sophisticated luxurious look taken see people live world live habitat thing one gets souls picture different stages loneliness one inhabits big city exactly best place human relations find sincere fulfillment one discerns case people encounter acting good mr mattei direction steve buscemi rosario dawson carol kane michael imperioli adrian grenier rest talented cast make characters come alive wish mr mattei good luck await anxiously next work']"
            ]
          },
          "metadata": {},
          "execution_count": 12
        }
      ]
    },
    {
      "cell_type": "code",
      "metadata": {
        "id": "spDgSTvCg9wk"
      },
      "source": [
        "#establish training and testing dataset\n",
        "train_data, test_data, train_sln, test_sln = \\\n",
        "    train_test_split(cleaned_text, data['sentiment'], test_size = 0.2, random_state=0) "
      ],
      "execution_count": 6,
      "outputs": []
    },
    {
      "cell_type": "markdown",
      "metadata": {
        "id": "-86AHOAkDpge"
      },
      "source": [
        "### Vectorizing the data\n",
        "\n",
        "**CountVectorizer**: Convert a collection of text documents to a matrix of token counts"
      ]
    },
    {
      "cell_type": "code",
      "metadata": {
        "id": "nwmex98NDgqJ"
      },
      "source": [
        "from sklearn.feature_extraction.text import CountVectorizer \n",
        "\n",
        "#Bag of Words with 2500 most common words\n",
        "vectorizer = CountVectorizer(analyzer='word', max_features = 2500)\n",
        "#find the right 2500 words\n",
        "vectorizer.fit(train_data)\n",
        "\n",
        "#use the vectorizer to transform review strings into word count vectors \n",
        "train_data_vectors = vectorizer.transform(train_data).toarray()\n",
        "test_data_vectors = vectorizer.transform(test_data).toarray()"
      ],
      "execution_count": 9,
      "outputs": []
    },
    {
      "cell_type": "code",
      "metadata": {
        "id": "uUSQcsLOEAec"
      },
      "source": [
        "## Now you can use train_data_vectors and test_data_vectors to train/test/tune your sklearn models.\n"
      ],
      "execution_count": null,
      "outputs": []
    },
    {
      "cell_type": "markdown",
      "source": [
        "### Commentary:\n",
        "To clean the review data there are four steps. First the punctuation from reviews is removed and replaced with spaces, and then the reviews are broken up along the spaces in order to break them down to the individual words contained within, a process called tokenization. The reviews are then searched and cleaned for stopwords and styling notation. The styling notation is functionally \"garbage\" values, and are created when users use italics or line breaks and so on in their reviews, thus they need to be manually cleaned out. Stopwords meanwhile are a list of common words deemed to provide no information to learning models, such as \"the,\" \"a,\" \"an,\" and so on. After cleaning the styling and stop words from the reviews the reviews are divided into training and testing data. Finally they reviews are vectorized so they can be more easily used as training data. The vectorization process looks for the 5000 most commonly occuring words in the reviews, and then generates 5000 columns in which it tracks how many times the respective column's word occured in each respective row's review. With this the data cleaning process is complete and the data is ready to be used with learning algorithms."
      ],
      "metadata": {
        "id": "mlF2Eb1StLvm"
      }
    },
    {
      "cell_type": "markdown",
      "source": [
        "## Metrics\n",
        "What metrics will you use to evaluate your model? Why are these metrics the best for your model? (Hint, this should be more than 'accuracy')."
      ],
      "metadata": {
        "id": "xMTeCuXnJTf0"
      }
    },
    {
      "cell_type": "markdown",
      "source": [
        "### Commentary:\n",
        "\n",
        "To evaluate the review classification models we will examine accuracy, as well as precision and recall scores. Accuracy will give us a baseline idea of how \"correct\" each model is, meanwhile precision and recall will give us an idea on if the model is biased towards classifying things a certain way. We'll also supplement precision and recall with a confusion matrix as that provides a visualization of the information contained within those values."
      ],
      "metadata": {
        "id": "fUJZ1QqTyDPI"
      }
    },
    {
      "cell_type": "markdown",
      "source": [
        "## Model Planning and Execution\n",
        "\n",
        "Identify which learning algorithms you will try and which important parameters you will tune for each one."
      ],
      "metadata": {
        "id": "KiDfbD2ZJcne"
      }
    },
    {
      "cell_type": "markdown",
      "source": [
        "For this task we will try using Support Vector Classifiers, Perceptrons, and Multi-Layer Perceptrons to attempt to classify the reviews:\n",
        "\n",
        "- Support Vector Classifiers important paramaters are the regularization parameter (C), the algorithm's kernel type (kernel), and the parameters polynomial degree (degree) and kernel coefficient (gamma) whose relevancy is dependent upon the kernel type.\n",
        "\n",
        "- Perceptrons important parameters are the regularization term (penalty), and the constant multiplier for penalty (alpha).\n",
        "\n",
        "- MLP's important parameters are the width of hidden layers (hidden_layer_sizes), the activation function for hidden layers (activation), the weight optimization solver (solver), the regularization term (alpha), and several other parameters including batch size and learning rate whose relevancy is dependant on the activation function.\n",
        "\n",
        "We will also use Principal Component Analysis to preprocess the data in hopes of improving the before mentioned models. PCA is an unsupervised learning algorithm and feature extraction technique that is capable of reducing dimensionality of data while also increasing information gain by searching for composite features (otherwise known as principle components) that are made up of multiple original features but better explain the trends in the target than the original features could independently. The primary parameter of concern for PCA is n_components, which dictates how many components PCA should keep. This can be set to an integer value to get the n-most helpful composite values PCA can generate, or a decimal between 0 and 1 to the number of values needed to explain n% of the variance."
      ],
      "metadata": {
        "id": "Sn9AC9RKyOPU"
      }
    },
    {
      "cell_type": "code",
      "source": [
        "## Imports\n",
        "from sklearn.decomposition import PCA\n",
        "from sklearn.svm import SVC\n",
        "from sklearn.linear_model import Perceptron\n",
        "from sklearn.neural_network import MLPClassifier\n",
        "\n",
        "from sklearn.metrics import accuracy_score\n",
        "from sklearn.metrics import confusion_matrix\n",
        "from sklearn.metrics import f1_score\n",
        "from sklearn.metrics import recall_score\n",
        "from sklearn.metrics import precision_score\n",
        "\n",
        "import matplotlib.pyplot as plt"
      ],
      "metadata": {
        "id": "ffzT38DjJ2WZ"
      },
      "execution_count": 7,
      "outputs": []
    },
    {
      "cell_type": "code",
      "source": [
        "#Sets the extractor to find components enough to explain 90% of variance\n",
        "extractor = PCA(n_components = .9, whiten=True)\n",
        "extractor.fit(train_data_vectors)\n",
        "\n",
        "train_transformed = extractor.transform(train_data_vectors)\n",
        "test_transformed = extractor.transform(test_data_vectors)\n",
        "\n",
        "print(extractor.explained_variance_ratio_)"
      ],
      "metadata": {
        "colab": {
          "base_uri": "https://localhost:8080/"
        },
        "id": "DaJgeBt88Bx_",
        "outputId": "2041cba6-0018-48fa-fc57-6c052d5a14df"
      },
      "execution_count": 10,
      "outputs": [
        {
          "output_type": "stream",
          "name": "stdout",
          "text": [
            "[0.06011777 0.04680889 0.01931148 ... 0.0001436  0.00014354 0.00014336]\n"
          ]
        }
      ]
    },
    {
      "cell_type": "code",
      "source": [
        "accuracy_scores = []\n",
        "features_tracker = []\n",
        "\n",
        "target_percent = .5\n",
        "weights_sum = 0\n",
        "tracker = 0\n",
        "for weight in extractor.explained_variance_ratio_:\n",
        "      weights_sum += weight\n",
        "      tracker += 1\n",
        "      if weights_sum > (target_percent):\n",
        "        break\n",
        "\n",
        "base_svc = SVC(random_state = 8)\n",
        "base_svc.fit(train_transformed[:,:tracker],train_sln)\n",
        "SVC_predictions = base_svc.predict(test_transformed[:,:tracker])\n",
        "\n",
        "accuracy_scores.append(accuracy_score(test_sln, SVC_predictions))\n",
        "features_tracker.append(target_percent)\n",
        "\n",
        "target_percent = .6\n",
        "weights_sum = 0\n",
        "tracker = 0\n",
        "for weight in extractor.explained_variance_ratio_:\n",
        "      weights_sum += weight\n",
        "      tracker += 1\n",
        "      if weights_sum > (target_percent):\n",
        "        break\n",
        "\n",
        "base_svc = SVC(random_state = 8)\n",
        "base_svc.fit(train_transformed[:,:tracker],train_sln)\n",
        "SVC_predictions = base_svc.predict(test_transformed[:,:tracker])\n",
        "\n",
        "accuracy_scores.append(accuracy_score(test_sln, SVC_predictions))\n",
        "features_tracker.append(target_percent)\n",
        "\n",
        "target_percent = .7\n",
        "weights_sum = 0\n",
        "tracker = 0\n",
        "for weight in extractor.explained_variance_ratio_:\n",
        "      weights_sum += weight\n",
        "      tracker += 1\n",
        "      if weights_sum > (target_percent):\n",
        "        break\n",
        "\n",
        "base_svc = SVC(random_state = 8)\n",
        "base_svc.fit(train_transformed[:,:tracker],train_sln)\n",
        "SVC_predictions = base_svc.predict(test_transformed[:,:tracker])\n",
        "\n",
        "accuracy_scores.append(accuracy_score(test_sln, SVC_predictions))\n",
        "features_tracker.append(target_percent)\n",
        "\n",
        "target_percent = .8\n",
        "weights_sum = 0\n",
        "tracker = 0\n",
        "for weight in extractor.explained_variance_ratio_:\n",
        "      weights_sum += weight\n",
        "      tracker += 1\n",
        "      if weights_sum > (target_percent):\n",
        "        break\n",
        "\n",
        "base_svc = SVC(random_state = 8)\n",
        "base_svc.fit(train_transformed[:,:tracker],train_sln)\n",
        "SVC_predictions = base_svc.predict(test_transformed[:,:tracker])\n",
        "\n",
        "accuracy_scores.append(accuracy_score(test_sln, SVC_predictions))\n",
        "features_tracker.append(target_percent)\n",
        "\n",
        "#Creates the a plot of the accuracy vs the percentage of variance explained by the features utilized\n",
        "plt.plot(features_tracker,accuracy_scores,(\"ko-\"))\n",
        "\n",
        "#Defines the title for the plot\n",
        "plt.suptitle('Baseline SVC Accuracy w/ Changing PCA-based Data',fontsize=18)\n",
        "#Defines the x-axis label for the plot\n",
        "plt.xlabel('% Variance Explained by Composite Features')\n",
        "#Defines the y-axis label for the plot\n",
        "plt.ylabel('Accuracy of the SVC model')\n",
        "\n",
        "#Shows the plot\n",
        "plt.show()"
      ],
      "metadata": {
        "colab": {
          "base_uri": "https://localhost:8080/",
          "height": 308
        },
        "id": "nh7jRYcDhp8U",
        "outputId": "fe592869-8cfc-4487-f609-1aa55b2d2de0"
      },
      "execution_count": 11,
      "outputs": [
        {
          "output_type": "display_data",
          "data": {
            "text/plain": [
              "<Figure size 432x288 with 1 Axes>"
            ],
            "image/png": "[encoded data removed]"
          },
          "metadata": {
            "needs_background": "light"
          }
        }
      ]
    },
    {
      "cell_type": "markdown",
      "source": [
        "#### Commentary\n",
        "As we can see from this plot, increasing the % of variance explained by composite features does, as one would assume, lead to an increase in accuracy of a baseline SVC model. However it should also be noted that this increase was not a large one. The accuracy only increased from just shy of 84% accuracy up to just over 86%. For some purposes this extra 2% of accuracy might be crucial, however in our case we can accept the tradeoff of slightly lower baseline accuracy in favor of using substantially less data. In fact based on the trend we've seen here, moving forward I personally feel comfortable using an even lower 40% variance explained cutoff, just to speed up the runtime."
      ],
      "metadata": {
        "id": "psXh1Zmjtoji"
      }
    },
    {
      "cell_type": "code",
      "source": [
        "#Sets the extractor to find components enough to explain 40% of variance\n",
        "extractor = PCA(n_components = .4, whiten=True)\n",
        "extractor.fit(train_data_vectors)\n",
        "\n",
        "train_transformed = extractor.transform(train_data_vectors)\n",
        "test_transformed = extractor.transform(test_data_vectors)"
      ],
      "metadata": {
        "id": "Q7owJ4vUvQT7"
      },
      "execution_count": 12,
      "outputs": []
    },
    {
      "cell_type": "code",
      "source": [
        "accuracy_scores = []\n",
        "recall_scores = []\n",
        "precision_scores = []\n",
        "\n",
        "#Initializes an SVC model with a sigmoid kernel\n",
        "sigmoid_svc = SVC(kernel = \"sigmoid\", random_state = 8)\n",
        "\n",
        "sigmoid_svc.fit(train_transformed,train_sln)\n",
        "sigmoid_predictions = sigmoid_svc.predict(test_transformed)\n",
        "\n",
        "accuracy_scores.append(accuracy_score(test_sln, sigmoid_predictions))\n",
        "recall_scores.append(recall_score(test_sln, sigmoid_predictions,pos_label=\"positive\"))\n",
        "precision_scores.append(precision_score(test_sln, sigmoid_predictions,pos_label=\"positive\"))\n",
        "\n",
        "#Initializes an SVC model with a rbf kernel\n",
        "rbf_svc = SVC(kernel = \"rbf\", random_state = 8)\n",
        "\n",
        "rbf_svc.fit(train_transformed,train_sln)\n",
        "rbf_predictions = rbf_svc.predict(test_transformed)\n",
        "\n",
        "accuracy_scores.append(accuracy_score(test_sln, rbf_predictions))\n",
        "recall_scores.append(recall_score(test_sln, rbf_predictions,pos_label=\"positive\"))\n",
        "precision_scores.append(precision_score(test_sln, rbf_predictions,pos_label=\"positive\"))\n",
        "\n",
        "#Initializes an SVC model with a poly kernel\n",
        "poly_svc = SVC(kernel = \"poly\", random_state = 8)\n",
        "\n",
        "poly_svc.fit(train_transformed,train_sln)\n",
        "poly_predictions = poly_svc.predict(test_transformed)\n",
        "\n",
        "accuracy_scores.append(accuracy_score(test_sln, poly_predictions))\n",
        "recall_scores.append(recall_score(test_sln, poly_predictions,pos_label=\"positive\"))\n",
        "precision_scores.append(precision_score(test_sln, poly_predictions,pos_label=\"positive\"))"
      ],
      "metadata": {
        "id": "kJBye0y_8hT9"
      },
      "execution_count": 16,
      "outputs": []
    },
    {
      "cell_type": "code",
      "source": [
        "from sklearn.metrics import confusion_matrix\n",
        "from sklearn.metrics import classification_report\n",
        "\n",
        "#Prints the relevant results of the models\n",
        "print(\"\\nSVC w/ Sigmoid Kernel:\")\n",
        "print(\"Classification Report: \")\n",
        "print(classification_report(test_sln, sigmoid_predictions))\n",
        "print(\"Confusion Matrix: \")\n",
        "print(confusion_matrix(test_sln, sigmoid_predictions))\n",
        "\n",
        "print(\"\\nSVC w/ rbf Kernel:\")\n",
        "print(\"Classification Report: \")\n",
        "print(classification_report(test_sln, rbf_predictions))\n",
        "print(\"Confusion Matrix: \")\n",
        "print(confusion_matrix(test_sln, rbf_predictions))\n",
        "\n",
        "print(\"\\nSVC w/ Polynomial Kernel:\")\n",
        "print(\"Classification Report: \")\n",
        "print(classification_report(test_sln, poly_predictions))\n",
        "print(\"Confusion Matrix: \")\n",
        "print(confusion_matrix(test_sln, poly_predictions))"
      ],
      "metadata": {
        "colab": {
          "base_uri": "https://localhost:8080/"
        },
        "id": "MYa7gzSozAnA",
        "outputId": "c197d83e-5506-4f32-82f4-ccc66255d3bc"
      },
      "execution_count": 23,
      "outputs": [
        {
          "output_type": "stream",
          "name": "stdout",
          "text": [
            "\n",
            "SVC w/ Sigmoid Kernel:\n",
            "Classification Report: \n",
            "              precision    recall  f1-score   support\n",
            "\n",
            "    negative       0.75      0.75      0.75      5035\n",
            "    positive       0.75      0.75      0.75      4965\n",
            "\n",
            "    accuracy                           0.75     10000\n",
            "   macro avg       0.75      0.75      0.75     10000\n",
            "weighted avg       0.75      0.75      0.75     10000\n",
            "\n",
            "Confusion Matrix: \n",
            "[[3784 1251]\n",
            " [1244 3721]]\n",
            "\n",
            "SVC w/ rbf Kernel:\n",
            "Classification Report: \n",
            "              precision    recall  f1-score   support\n",
            "\n",
            "    negative       0.82      0.78      0.80      5035\n",
            "    positive       0.79      0.83      0.81      4965\n",
            "\n",
            "    accuracy                           0.80     10000\n",
            "   macro avg       0.80      0.80      0.80     10000\n",
            "weighted avg       0.80      0.80      0.80     10000\n",
            "\n",
            "Confusion Matrix: \n",
            "[[3928 1107]\n",
            " [ 862 4103]]\n",
            "\n",
            "SVC w/ Polynomial Kernel:\n",
            "Classification Report: \n",
            "              precision    recall  f1-score   support\n",
            "\n",
            "    negative       0.82      0.76      0.79      5035\n",
            "    positive       0.77      0.84      0.80      4965\n",
            "\n",
            "    accuracy                           0.80     10000\n",
            "   macro avg       0.80      0.80      0.80     10000\n",
            "weighted avg       0.80      0.80      0.80     10000\n",
            "\n",
            "Confusion Matrix: \n",
            "[[3802 1233]\n",
            " [ 810 4155]]\n"
          ]
        }
      ]
    },
    {
      "cell_type": "code",
      "source": [
        "kernels = [\"Sigmoid\",\"rbf\",\"Polynomial\"]\n",
        "\n",
        "x_axis = np.arange(len(kernels))\n",
        "\n",
        "# Creates a multibar chart with bars for recall and precision\n",
        "plt.bar(x_axis, accuracy_scores, label = 'Accuracy', color='#118df2')\n",
        "\n",
        "# Set the X-ticks to be the kernels\n",
        "plt.xticks(x_axis, kernels)\n",
        "\n",
        "#Display the plot\n",
        "plt.show()"
      ],
      "metadata": {
        "colab": {
          "base_uri": "https://localhost:8080/",
          "height": 265
        },
        "id": "lRLH3e2U77Hi",
        "outputId": "8c7eb104-4c09-4e8e-9625-042ad380213f"
      },
      "execution_count": 31,
      "outputs": [
        {
          "output_type": "display_data",
          "data": {
            "text/plain": [
              "<Figure size 432x288 with 1 Axes>"
            ],
            "image/png": "[encoded data removed]"
          },
          "metadata": {
            "needs_background": "light"
          }
        }
      ]
    },
    {
      "cell_type": "code",
      "source": [
        "import numpy as np\n",
        "\n",
        "kernels = [\"Sigmoid\",\"rbf\",\"Polynomial\"]\n",
        "\n",
        "x_axis = np.arange(len(kernels))\n",
        "\n",
        "# Creates a multibar chart with bars for recall and precision\n",
        "plt.bar(x_axis -0.2, recall_scores, width=0.4, label = 'Recall', color='#f27e11')\n",
        "plt.bar(x_axis +0.2, precision_scores, width=0.4, label = 'Precision', color='#7d19cf')\n",
        "\n",
        "# Set the X-ticks to be the kernels\n",
        "plt.xticks(x_axis, kernels)\n",
        "\n",
        "#Display the plot\n",
        "plt.legend(loc='lower right', shadow=True)\n",
        "plt.show()"
      ],
      "metadata": {
        "colab": {
          "base_uri": "https://localhost:8080/",
          "height": 265
        },
        "id": "YNVontrV6oSV",
        "outputId": "7853bc80-9a47-4d95-d1e9-901c01771238"
      },
      "execution_count": 32,
      "outputs": [
        {
          "output_type": "display_data",
          "data": {
            "text/plain": [
              "<Figure size 432x288 with 1 Axes>"
            ],
            "image/png": "[encoded data removed]"
          },
          "metadata": {
            "needs_background": "light"
          }
        }
      ]
    },
    {
      "cell_type": "code",
      "source": [
        "accuracy_scores = []\n",
        "recall_scores = []\n",
        "precision_scores = []\n",
        "\n",
        "#Initalizes a perceptron model with no penalty\n",
        "none_perc = Perceptron(penalty=\"none\", random_state = 8)\n",
        "none_perc.fit(train_transformed,train_sln)\n",
        "none_predictions = none_perc.predict(test_transformed)\n",
        "\n",
        "accuracy_scores.append(accuracy_score(test_sln, none_predictions))\n",
        "recall_scores.append(recall_score(test_sln, none_predictions,pos_label=\"positive\"))\n",
        "precision_scores.append(precision_score(test_sln, none_predictions,pos_label=\"positive\"))\n",
        "\n",
        "#Initalizes a perceptron model with l1 penalty\n",
        "l1_perc = Perceptron(penalty=\"l1\", random_state = 8)\n",
        "l1_perc.fit(train_transformed,train_sln)\n",
        "l1_predictions = l1_perc.predict(test_transformed)\n",
        "\n",
        "accuracy_scores.append(accuracy_score(test_sln, l1_predictions))\n",
        "recall_scores.append(recall_score(test_sln, l1_predictions,pos_label=\"positive\"))\n",
        "precision_scores.append(precision_score(test_sln, l1_predictions,pos_label=\"positive\"))\n",
        "\n",
        "#Initalizes a perceptron model with l2 penalty\n",
        "l2_perc = Perceptron(penalty=\"l2\", random_state = 8)\n",
        "l2_perc.fit(train_transformed,train_sln)\n",
        "l2_predictions = l2_perc.predict(test_transformed)\n",
        "\n",
        "accuracy_scores.append(accuracy_score(test_sln, l2_predictions))\n",
        "recall_scores.append(recall_score(test_sln, l2_predictions,pos_label=\"positive\"))\n",
        "precision_scores.append(precision_score(test_sln, l2_predictions,pos_label=\"positive\"))\n",
        "\n",
        "#Initalizes a perceptron model with l2 penalty + an alpha\n",
        "l2_mod_perc = Perceptron(penalty=\"l2\", alpha = 0.001, random_state = 8)\n",
        "l2_mod_perc.fit(train_transformed,train_sln)\n",
        "l2_mod_predictions = l2_mod_perc.predict(test_transformed)\n",
        "\n",
        "accuracy_scores.append(accuracy_score(test_sln, l2_mod_predictions))\n",
        "recall_scores.append(recall_score(test_sln, l2_mod_predictions,pos_label=\"positive\"))\n",
        "precision_scores.append(precision_score(test_sln, l2_mod_predictions,pos_label=\"positive\"))"
      ],
      "metadata": {
        "id": "T1G-pJHc8rXc"
      },
      "execution_count": 38,
      "outputs": []
    },
    {
      "cell_type": "code",
      "source": [
        "#Prints the relevant results of the models\n",
        "print(\"\\nPerceptron w/ no regularization term:\")\n",
        "print(\"Classification Report: \")\n",
        "print(classification_report(test_sln, none_predictions))\n",
        "print(\"Confusion Matrix: \")\n",
        "print(confusion_matrix(test_sln, none_predictions))\n",
        "\n",
        "print(\"\\nPerceptron w/ l1 regularization term:\")\n",
        "print(\"Classification Report: \")\n",
        "print(classification_report(test_sln, l1_predictions))\n",
        "print(\"Confusion Matrix: \")\n",
        "print(confusion_matrix(test_sln, l1_predictions))\n",
        "\n",
        "print(\"\\nPerceptron w/ l2 regularization term:\")\n",
        "print(\"Classification Report: \")\n",
        "print(classification_report(test_sln, l2_predictions))\n",
        "print(\"Confusion Matrix: \")\n",
        "print(confusion_matrix(test_sln, l2_predictions))\n",
        "\n",
        "print(\"\\nPerceptron w/ l2 regularization term and a modified alpha:\")\n",
        "print(\"Classification Report: \")\n",
        "print(classification_report(test_sln, l2_mod_predictions))\n",
        "print(\"Confusion Matrix: \")\n",
        "print(confusion_matrix(test_sln, l2_mod_predictions))"
      ],
      "metadata": {
        "colab": {
          "base_uri": "https://localhost:8080/"
        },
        "id": "tv0k4oqh_jS6",
        "outputId": "749d4108-8143-45a6-8597-fa2f42c2bf95"
      },
      "execution_count": 39,
      "outputs": [
        {
          "output_type": "stream",
          "name": "stdout",
          "text": [
            "\n",
            "Perceptron w/ no regularization term:\n",
            "Classification Report: \n",
            "              precision    recall  f1-score   support\n",
            "\n",
            "    negative       0.73      0.77      0.75      5035\n",
            "    positive       0.75      0.70      0.73      4965\n",
            "\n",
            "    accuracy                           0.74     10000\n",
            "   macro avg       0.74      0.74      0.74     10000\n",
            "weighted avg       0.74      0.74      0.74     10000\n",
            "\n",
            "Confusion Matrix: \n",
            "[[3874 1161]\n",
            " [1467 3498]]\n",
            "\n",
            "Perceptron w/ l1 regularization term:\n",
            "Classification Report: \n",
            "              precision    recall  f1-score   support\n",
            "\n",
            "    negative       0.72      0.72      0.72      5035\n",
            "    positive       0.72      0.71      0.72      4965\n",
            "\n",
            "    accuracy                           0.72     10000\n",
            "   macro avg       0.72      0.72      0.72     10000\n",
            "weighted avg       0.72      0.72      0.72     10000\n",
            "\n",
            "Confusion Matrix: \n",
            "[[3634 1401]\n",
            " [1421 3544]]\n",
            "\n",
            "Perceptron w/ l2 regularization term:\n",
            "Classification Report: \n",
            "              precision    recall  f1-score   support\n",
            "\n",
            "    negative       0.74      0.72      0.73      5035\n",
            "    positive       0.72      0.74      0.73      4965\n",
            "\n",
            "    accuracy                           0.73     10000\n",
            "   macro avg       0.73      0.73      0.73     10000\n",
            "weighted avg       0.73      0.73      0.73     10000\n",
            "\n",
            "Confusion Matrix: \n",
            "[[3640 1395]\n",
            " [1293 3672]]\n",
            "\n",
            "Perceptron w/ l2 regularization term and a modified alpha:\n",
            "Classification Report: \n",
            "              precision    recall  f1-score   support\n",
            "\n",
            "    negative       0.70      0.69      0.70      5035\n",
            "    positive       0.69      0.71      0.70      4965\n",
            "\n",
            "    accuracy                           0.70     10000\n",
            "   macro avg       0.70      0.70      0.70     10000\n",
            "weighted avg       0.70      0.70      0.70     10000\n",
            "\n",
            "Confusion Matrix: \n",
            "[[3468 1567]\n",
            " [1458 3507]]\n"
          ]
        }
      ]
    },
    {
      "cell_type": "code",
      "source": [
        "penalty = [\"None\",\"l1\",\"l2\",\"l2 V2\"]\n",
        "\n",
        "x_axis = np.arange(len(penalty))\n",
        "\n",
        "# Creates a multibar chart with bars for recall and precision\n",
        "plt.bar(x_axis, accuracy_scores, label = 'Accuracy', color='#118df2')\n",
        "\n",
        "# Set the X-ticks to be the kernels\n",
        "plt.xticks(x_axis, penalty)\n",
        "\n",
        "#Display the plot\n",
        "plt.show()"
      ],
      "metadata": {
        "colab": {
          "base_uri": "https://localhost:8080/",
          "height": 265
        },
        "id": "XhCmx3w8ARFu",
        "outputId": "26be0ebb-cdb1-4d6c-b8c2-6ac99590fd21"
      },
      "execution_count": 43,
      "outputs": [
        {
          "output_type": "display_data",
          "data": {
            "text/plain": [
              "<Figure size 432x288 with 1 Axes>"
            ],
            "image/png": "[encoded data removed]"
          },
          "metadata": {
            "needs_background": "light"
          }
        }
      ]
    },
    {
      "cell_type": "code",
      "source": [
        "penalty = [\"None\",\"l1\",\"l2\",\"l2 V2\"]\n",
        "\n",
        "x_axis = np.arange(len(penalty))\n",
        "\n",
        "# Creates a multibar chart with bars for recall and precision\n",
        "plt.bar(x_axis -0.2, recall_scores, width=0.4, label = 'Recall', color='#f27e11')\n",
        "plt.bar(x_axis +0.2, precision_scores, width=0.4, label = 'Precision', color='#7d19cf')\n",
        "\n",
        "# Set the X-ticks to be the kernels\n",
        "plt.xticks(x_axis, penalty)\n",
        "\n",
        "#Display the plot\n",
        "plt.legend(loc='lower right', shadow=True)\n",
        "plt.show()"
      ],
      "metadata": {
        "colab": {
          "base_uri": "https://localhost:8080/",
          "height": 265
        },
        "id": "f5CSIyyiBAi_",
        "outputId": "c6f55aca-8008-4871-c663-ed4e85d1109c"
      },
      "execution_count": 44,
      "outputs": [
        {
          "output_type": "display_data",
          "data": {
            "text/plain": [
              "<Figure size 432x288 with 1 Axes>"
            ],
            "image/png": "[encoded data removed]"
          },
          "metadata": {
            "needs_background": "light"
          }
        }
      ]
    },
    {
      "cell_type": "code",
      "source": [
        "accuracy_scores = []\n",
        "recall_scores = []\n",
        "precision_scores = []\n",
        "\n",
        "#Initalizes a perceptron model with a relu activation function\n",
        "relu_mlp = MLPClassifier(activation=\"relu\", max_iter=500, random_state = 8)\n",
        "relu_mlp.fit(train_transformed,train_sln)\n",
        "relu_predictions = relu_mlp.predict(test_transformed)\n",
        "\n",
        "accuracy_scores.append(accuracy_score(test_sln, relu_predictions))\n",
        "recall_scores.append(recall_score(test_sln, relu_predictions,pos_label=\"positive\"))\n",
        "precision_scores.append(precision_score(test_sln, relu_predictions,pos_label=\"positive\"))\n",
        "\n",
        "#Initalizes a perceptron model with a tanh activation function\n",
        "tanh_mlp = MLPClassifier(activation=\"tanh\", max_iter=500, random_state = 8)\n",
        "tanh_mlp.fit(train_transformed,train_sln)\n",
        "tanh_predictions = tanh_mlp.predict(test_transformed)\n",
        "\n",
        "accuracy_scores.append(accuracy_score(test_sln, tanh_predictions))\n",
        "recall_scores.append(recall_score(test_sln, tanh_predictions,pos_label=\"positive\"))\n",
        "precision_scores.append(precision_score(test_sln, tanh_predictions,pos_label=\"positive\"))\n",
        "\n",
        "#Initalizes a perceptron model with a logistic activation function\n",
        "logistic_mlp = MLPClassifier(activation=\"logistic\", max_iter=500, random_state = 8)\n",
        "logistic_mlp.fit(train_transformed,train_sln)\n",
        "logistic_predictions = logistic_mlp.predict(test_transformed)\n",
        "\n",
        "accuracy_scores.append(accuracy_score(test_sln, logistic_predictions))\n",
        "recall_scores.append(recall_score(test_sln, logistic_predictions,pos_label=\"positive\"))\n",
        "precision_scores.append(precision_score(test_sln, logistic_predictions,pos_label=\"positive\"))\n",
        "\n",
        "\n",
        "#Initalizes a perceptron model with an identity activation function\n",
        "identity_mlp = MLPClassifier(activation=\"identity\", max_iter=500, random_state = 8)\n",
        "identity_mlp.fit(train_transformed,train_sln)\n",
        "identity_predictions = identity_mlp.predict(test_transformed)\n",
        "\n",
        "accuracy_scores.append(accuracy_score(test_sln, identity_predictions))\n",
        "recall_scores.append(recall_score(test_sln, identity_predictions,pos_label=\"positive\"))\n",
        "precision_scores.append(precision_score(test_sln, identity_predictions,pos_label=\"positive\"))\n",
        "\n",
        "#Initalizes a perceptron model with a relu activation function and an lbfgs solver\n",
        "relu_lbfgs_mlp = MLPClassifier(activation=\"relu\", solver=\"lbfgs\", max_iter=500, random_state = 8)\n",
        "relu_lbfgs_mlp.fit(train_transformed,train_sln)\n",
        "relu_lbfgs_predictions = relu_lbfgs_mlp.predict(test_transformed)\n",
        "\n",
        "accuracy_scores.append(accuracy_score(test_sln, relu_lbfgs_predictions))\n",
        "recall_scores.append(recall_score(test_sln, relu_lbfgs_predictions,pos_label=\"positive\"))\n",
        "precision_scores.append(precision_score(test_sln, relu_lbfgs_predictions,pos_label=\"positive\"))\n",
        "\n",
        "#Initalizes a perceptron model with a relu activation function and a low number of neurons in hidden layers\n",
        "relu_small_layers_mlp = MLPClassifier(activation=\"relu\", hidden_layer_sizes=50, max_iter=500, random_state = 8)\n",
        "relu_small_layers_mlp.fit(train_transformed,train_sln)\n",
        "relu_small_layers_predictions = relu_small_layers_mlp.predict(test_transformed)\n",
        "\n",
        "accuracy_scores.append(accuracy_score(test_sln, relu_small_layers_predictions))\n",
        "recall_scores.append(recall_score(test_sln, relu_small_layers_predictions,pos_label=\"positive\"))\n",
        "precision_scores.append(precision_score(test_sln, relu_small_layers_predictions,pos_label=\"positive\"))"
      ],
      "metadata": {
        "colab": {
          "base_uri": "https://localhost:8080/"
        },
        "id": "hkrGgcAW81lr",
        "outputId": "7d86a5c3-6a55-472a-b1f1-b9d1c40cf194"
      },
      "execution_count": 46,
      "outputs": [
        {
          "output_type": "stream",
          "name": "stderr",
          "text": [
            "/usr/local/lib/python3.7/dist-packages/sklearn/neural_network/_multilayer_perceptron.py:696: ConvergenceWarning: Stochastic Optimizer: Maximum iterations (500) reached and the optimization hasn't converged yet.\n",
            "  ConvergenceWarning,\n",
            "/usr/local/lib/python3.7/dist-packages/sklearn/neural_network/_multilayer_perceptron.py:696: ConvergenceWarning: Stochastic Optimizer: Maximum iterations (500) reached and the optimization hasn't converged yet.\n",
            "  ConvergenceWarning,\n",
            "/usr/local/lib/python3.7/dist-packages/sklearn/neural_network/_multilayer_perceptron.py:549: ConvergenceWarning: lbfgs failed to converge (status=1):\n",
            "STOP: TOTAL NO. of ITERATIONS REACHED LIMIT.\n",
            "\n",
            "Increase the number of iterations (max_iter) or scale the data as shown in:\n",
            "    https://scikit-learn.org/stable/modules/preprocessing.html\n",
            "  self.n_iter_ = _check_optimize_result(\"lbfgs\", opt_res, self.max_iter)\n"
          ]
        }
      ]
    },
    {
      "cell_type": "code",
      "source": [
        "#Prints the relevant results of the models\n",
        "print(\"\\nMLP w/ Relu Activation:\")\n",
        "print(\"Classification Report: \")\n",
        "print(classification_report(test_sln, relu_predictions))\n",
        "print(\"Confusion Matrix: \")\n",
        "print(confusion_matrix(test_sln, relu_predictions))\n",
        "\n",
        "print(\"\\nMLP w/ Tanh Activation:\")\n",
        "print(\"Classification Report: \")\n",
        "print(classification_report(test_sln, tanh_predictions))\n",
        "print(\"Confusion Matrix: \")\n",
        "print(confusion_matrix(test_sln, tanh_predictions))\n",
        "\n",
        "print(\"\\nMLP w/ Logistic Activation:\")\n",
        "print(\"Classification Report: \")\n",
        "print(classification_report(test_sln, logistic_predictions))\n",
        "print(\"Confusion Matrix: \")\n",
        "print(confusion_matrix(test_sln, logistic_predictions))\n",
        "\n",
        "print(\"\\nMLP w/ Identity Activation:\")\n",
        "print(\"Classification Report: \")\n",
        "print(classification_report(test_sln, identity_predictions))\n",
        "print(\"Confusion Matrix: \")\n",
        "print(confusion_matrix(test_sln, identity_predictions))\n",
        "\n",
        "print(\"\\nMLP w/ Relu Activation and lbfgs Solver:\")\n",
        "print(\"Classification Report: \")\n",
        "print(classification_report(test_sln, relu_lbfgs_predictions))\n",
        "print(\"Confusion Matrix: \")\n",
        "print(confusion_matrix(test_sln, relu_lbfgs_predictions))\n",
        "\n",
        "print(\"\\nMLP w/ Relu Activation and smaller width:\")\n",
        "print(\"Classification Report: \")\n",
        "print(classification_report(test_sln, relu_small_layers_predictions))\n",
        "print(\"Confusion Matrix: \")\n",
        "print(confusion_matrix(test_sln, relu_small_layers_predictions))"
      ],
      "metadata": {
        "colab": {
          "base_uri": "https://localhost:8080/"
        },
        "id": "IvxCiqECNaGK",
        "outputId": "5c74843d-139b-490b-e876-c79b6f2bc673"
      },
      "execution_count": 50,
      "outputs": [
        {
          "output_type": "stream",
          "name": "stdout",
          "text": [
            "\n",
            "MLP w/ Relu Activation:\n",
            "Classification Report: \n",
            "              precision    recall  f1-score   support\n",
            "\n",
            "    negative       0.75      0.77      0.76      5035\n",
            "    positive       0.76      0.74      0.75      4965\n",
            "\n",
            "    accuracy                           0.76     10000\n",
            "   macro avg       0.76      0.76      0.76     10000\n",
            "weighted avg       0.76      0.76      0.76     10000\n",
            "\n",
            "Confusion Matrix: \n",
            "[[3869 1166]\n",
            " [1269 3696]]\n",
            "\n",
            "MLP w/ Tanh Activation:\n",
            "Classification Report: \n",
            "              precision    recall  f1-score   support\n",
            "\n",
            "    negative       0.74      0.73      0.73      5035\n",
            "    positive       0.73      0.74      0.74      4965\n",
            "\n",
            "    accuracy                           0.73     10000\n",
            "   macro avg       0.74      0.74      0.73     10000\n",
            "weighted avg       0.74      0.73      0.73     10000\n",
            "\n",
            "Confusion Matrix: \n",
            "[[3666 1369]\n",
            " [1281 3684]]\n",
            "\n",
            "MLP w/ Logistic Activation:\n",
            "Classification Report: \n",
            "              precision    recall  f1-score   support\n",
            "\n",
            "    negative       0.75      0.74      0.74      5035\n",
            "    positive       0.74      0.75      0.74      4965\n",
            "\n",
            "    accuracy                           0.74     10000\n",
            "   macro avg       0.74      0.74      0.74     10000\n",
            "weighted avg       0.74      0.74      0.74     10000\n",
            "\n",
            "Confusion Matrix: \n",
            "[[3729 1306]\n",
            " [1257 3708]]\n",
            "\n",
            "MLP w/ Identity Activation:\n",
            "Classification Report: \n",
            "              precision    recall  f1-score   support\n",
            "\n",
            "    negative       0.81      0.79      0.80      5035\n",
            "    positive       0.79      0.81      0.80      4965\n",
            "\n",
            "    accuracy                           0.80     10000\n",
            "   macro avg       0.80      0.80      0.80     10000\n",
            "weighted avg       0.80      0.80      0.80     10000\n",
            "\n",
            "Confusion Matrix: \n",
            "[[3966 1069]\n",
            " [ 938 4027]]\n",
            "\n",
            "MLP w/ Relu Activation and lbfgs Solver:\n",
            "Classification Report: \n",
            "              precision    recall  f1-score   support\n",
            "\n",
            "    negative       0.75      0.76      0.75      5035\n",
            "    positive       0.75      0.74      0.75      4965\n",
            "\n",
            "    accuracy                           0.75     10000\n",
            "   macro avg       0.75      0.75      0.75     10000\n",
            "weighted avg       0.75      0.75      0.75     10000\n",
            "\n",
            "Confusion Matrix: \n",
            "[[3815 1220]\n",
            " [1271 3694]]\n",
            "\n",
            "MLP w/ Relu Activation and smaller width:\n",
            "Classification Report: \n",
            "              precision    recall  f1-score   support\n",
            "\n",
            "    negative       0.78      0.78      0.78      5035\n",
            "    positive       0.78      0.78      0.78      4965\n",
            "\n",
            "    accuracy                           0.78     10000\n",
            "   macro avg       0.78      0.78      0.78     10000\n",
            "weighted avg       0.78      0.78      0.78     10000\n",
            "\n",
            "Confusion Matrix: \n",
            "[[3932 1103]\n",
            " [1110 3855]]\n"
          ]
        }
      ]
    },
    {
      "cell_type": "code",
      "source": [
        "versions = [\"Relu\",\"Tanh\",\"Logistic\",\"Identity\",\"Relu V2\",\"Relu V3\"]\n",
        "\n",
        "x_axis = np.arange(len(versions))\n",
        "\n",
        "# Creates a multibar chart with bars for recall and precision\n",
        "plt.bar(x_axis, accuracy_scores, label = 'Accuracy', color='#118df2')\n",
        "\n",
        "# Set the X-ticks to be the kernels\n",
        "plt.xticks(x_axis, versions)\n",
        "\n",
        "#Display the plot\n",
        "plt.show()"
      ],
      "metadata": {
        "colab": {
          "base_uri": "https://localhost:8080/",
          "height": 265
        },
        "id": "D64WLp0MNUiB",
        "outputId": "2aafd3e1-4cce-46eb-f861-602148e822f4"
      },
      "execution_count": 48,
      "outputs": [
        {
          "output_type": "display_data",
          "data": {
            "text/plain": [
              "<Figure size 432x288 with 1 Axes>"
            ],
            "image/png": "[encoded data removed]"
          },
          "metadata": {
            "needs_background": "light"
          }
        }
      ]
    },
    {
      "cell_type": "code",
      "source": [
        "versions = [\"Relu\",\"Tanh\",\"Logistic\",\"Identity\",\"Relu V2\",\"Relu V3\"]\n",
        "\n",
        "x_axis = np.arange(len(versions))\n",
        "\n",
        "# Creates a multibar chart with bars for recall and precision\n",
        "plt.bar(x_axis -0.2, recall_scores, width=0.4, label = 'Recall', color='#f27e11')\n",
        "plt.bar(x_axis +0.2, precision_scores, width=0.4, label = 'Precision', color='#7d19cf')\n",
        "\n",
        "# Set the X-ticks to be the kernels\n",
        "plt.xticks(x_axis, versions)\n",
        "\n",
        "#Display the plot\n",
        "plt.legend(loc='lower right', shadow=True)\n",
        "plt.show()"
      ],
      "metadata": {
        "colab": {
          "base_uri": "https://localhost:8080/",
          "height": 265
        },
        "id": "OTESepGuNvYX",
        "outputId": "09699663-fcfb-42b4-fe36-a9cd2edeabb1"
      },
      "execution_count": 49,
      "outputs": [
        {
          "output_type": "display_data",
          "data": {
            "text/plain": [
              "<Figure size 432x288 with 1 Axes>"
            ],
            "image/png": "[encoded data removed]"
          },
          "metadata": {
            "needs_background": "light"
          }
        }
      ]
    },
    {
      "cell_type": "markdown",
      "source": [
        "## Bumps in the Road\n",
        "\n",
        "What challenges did you encounter? How did you overcome these challenges? Did you have to adapt your strategy to account for these challenges? Why or why not?"
      ],
      "metadata": {
        "id": "Zn-nyupmJjee"
      }
    },
    {
      "cell_type": "markdown",
      "source": [
        "The biggest challenge by far with this project has been simply the length of runtime for the models. To address this I needed to make sacrifices to the amount of data I was willing to take into the models and quantity of experiments I was willing to run to make decisions about the optimal models. In a perfect world we would be able to use all the data and test many different models before coming to a conclusion. However with the constraint of compute resources and time, as data scientists we need to be able to make choices about where to we can afford to make sacrifices. In this project that meant cutting way back on the quantity of data I was using in my models, which is the motivation of using PCA in general so ideally not too much was lost in practice there. Additionally I had to run less trials than I'd ideally like, while also ensuring I wasn't running so few trials that I wasn't gathering enough performance analytics. This was a difficult decision, however I did my best to make calls and strike a balance between the two extremes."
      ],
      "metadata": {
        "id": "MgN8JPcUgBFQ"
      }
    },
    {
      "cell_type": "markdown",
      "source": [
        "## Results\n",
        "\n",
        "After you conduct your learning experiment, summarize the results you got. Include visualizations as appropriate."
      ],
      "metadata": {
        "id": "RzzX03FWJrhr"
      }
    },
    {
      "cell_type": "markdown",
      "source": [
        "Examining the results, the best performing model in terms of accuracy was a three way tie between the SVC model with an rbf kernel, the SVC model with a polynomial kernel, and the MLP model with an identity activation function. Each of these had an 80% accuracy score, which isn't amazing but given the fact they were given a pretty condensed and limited version of the data to work with its still fairly impressive. \n",
        "\n",
        "Additionally while not the best performing, it was interesting when looking at the accuracy bar charts to notice that the MLP with relu activation did better in the version with reduced width, demonstrating clearly that more computational analysis does not always mean better results.\n",
        "\n",
        "Looking at the bar charts for recall and precision we can see for the most part these models have similar recall and precision scores, which would make sense as the data didn't have a bias to begin with towards either categorization.\n",
        "\n",
        "Finally as already discussed  the increasing the variance explained requirement for PCA did unsurprisingly increase accuracy of baseline models. While our 80% accuracy now might not be amazing, the baseline test (which by coincidence used what turned out to be one of the best models), was able to achieve a little over 86% accuracy when given more PCA-extracted data to work with. This indicates that even in the worst case that no more tweaking could improve these three models, we can still actually achieve at minimum an 86% accuracy in movie review prediction."
      ],
      "metadata": {
        "id": "wXok3mixZ-c_"
      }
    },
    {
      "cell_type": "markdown",
      "source": [
        "## Conclusions\n",
        "\n",
        "What insights/recommendations do you have? What did you find that was interesting? Which model was your best model, which models didn't work well? Why do you think this is? In general, I want a discussion of your experiment, the results, and what they mean."
      ],
      "metadata": {
        "id": "xXOQ98UfJwu0"
      }
    },
    {
      "cell_type": "markdown",
      "source": [
        "The best performing models was a three way tie between the SVC model with an rbf kernel, the SVC model with a polynomial kernel, and the MLP model with an identity activation function. I was especially impressed the identity activation function mlp came out in the top. Based on the documentation it seemed less generally useful than the other activation functions, so I almost skipped that one entirely to save on resources. None of the models did terribly, although it could be noted that some of the MLP models (I believe the ones with relu activation functions) didn't converge even when I extended the normal max iteration count of 200 up to 500.\n",
        "\n",
        "If I were to continue experimenting I'd likely keep working with the MLP model with the identity activation function. Changing the hidden_layer_sizes with the relu activation function improved that model's performance so it could be the case that the identity function might also benefit from this change. Though this is just a theory.\n",
        "\n",
        "It was also interesting that all of the perceptrons performed pretty badly. Its not necessarily surprising given the complexity of the task, in fact relative to the complexity they actually performed fairly well. However when compared to the other models none of them were competitive.\n",
        "\n",
        "Overall however, even without further refinement, an 86% accuracy rate on movie review sentiment seems like a decent success rate. While 86% is not good enough for many real world applications, at least not without oversight, I would probably be comfortable utilizing one of the models created here to quickly bulk analyze film reviews. \n",
        "\n"
      ],
      "metadata": {
        "id": "4uGcx3LqZ_FF"
      }
    }
  ]
}