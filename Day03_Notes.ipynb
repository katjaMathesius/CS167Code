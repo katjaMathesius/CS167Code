{
  "nbformat": 4,
  "nbformat_minor": 0,
  "metadata": {
    "colab": {
      "name": "Day03_Notes.ipynb",
      "provenance": [],
      "collapsed_sections": [],
      "include_colab_link": true
    },
    "kernelspec": {
      "name": "python3",
      "display_name": "Python 3"
    },
    "language_info": {
      "name": "python"
    }
  },
  "cells": [
    {
      "cell_type": "markdown",
      "metadata": {
        "id": "view-in-github",
        "colab_type": "text"
      },
      "source": [
        "<a href=\"https://colab.research.google.com/github/urness/CS167Code/blob/main/Day03_Notes.ipynb\" target=\"_parent\"><img src=\"https://colab.research.google.com/assets/colab-badge.svg\" alt=\"Open In Colab\"/></a>"
      ]
    },
    {
      "cell_type": "markdown",
      "metadata": {
        "id": "MzTNutcVEc0v"
      },
      "source": [
        "# CS167 Day 03 Demonstration Notes\n",
        "\n",
        "## Part 1: Selecting columns in dataframes"
      ]
    },
    {
      "cell_type": "code",
      "metadata": {
        "colab": {
          "base_uri": "https://localhost:8080/"
        },
        "id": "nTrUOLFPEXO5",
        "outputId": "b4d06c12-7823-4d31-fb1b-d9ac7d2a24ce"
      },
      "source": [
        "import pandas\n",
        "from google.colab import drive\n",
        "drive.mount('/content/drive')\n",
        "#go through authentication step"
      ],
      "execution_count": 1,
      "outputs": [
        {
          "output_type": "stream",
          "name": "stdout",
          "text": [
            "Mounted at /content/drive\n"
          ]
        }
      ]
    },
    {
      "cell_type": "code",
      "source": [
        "iris_data = pandas.read_csv('/content/drive/MyDrive/CS167Spring22/datasets/irisData.csv')\n",
        "iris_data.head()"
      ],
      "metadata": {
        "id": "RTpKpFynvHFa"
      },
      "execution_count": null,
      "outputs": []
    },
    {
      "cell_type": "code",
      "metadata": {
        "id": "mTiXixPaEot4"
      },
      "source": [
        "titanic = pandas.read_csv('/content/drive/MyDrive/CS167Spring22/datasets/titanic.csv')\n",
        "titanic.head()"
      ],
      "execution_count": null,
      "outputs": []
    },
    {
      "cell_type": "code",
      "metadata": {
        "id": "HKTa0jInExJ2"
      },
      "source": [
        "# what is the data type of titanic?\n",
        "type(titanic)"
      ],
      "execution_count": null,
      "outputs": []
    },
    {
      "cell_type": "code",
      "metadata": {
        "id": "Ob-NXs4zEyfd"
      },
      "source": [
        "# what are the features (column titles) of the titanic dataset?\n",
        "titanic.columns"
      ],
      "execution_count": null,
      "outputs": []
    },
    {
      "cell_type": "code",
      "metadata": {
        "id": "Ex6xebZ0E0ID"
      },
      "source": [
        "#display columns\n",
        "titanic['pclass']\n",
        "#or\n",
        "#titanic.pclass"
      ],
      "execution_count": null,
      "outputs": []
    },
    {
      "cell_type": "code",
      "metadata": {
        "id": "QIrcK4a3E2ae"
      },
      "source": [
        "#subset multiple columns\n",
        "subset = titanic [ ['pclass', 'survived', 'age']]"
      ],
      "execution_count": null,
      "outputs": []
    },
    {
      "cell_type": "code",
      "metadata": {
        "id": "ebWjbcBzE48-"
      },
      "source": [
        "#type of a column\n",
        "type(titanic['pclass'])"
      ],
      "execution_count": null,
      "outputs": []
    },
    {
      "cell_type": "code",
      "metadata": {
        "id": "SDOd-m4oE6W6"
      },
      "source": [
        "#shape (number of elements in each dimension)\n",
        "titanic.shape"
      ],
      "execution_count": null,
      "outputs": []
    },
    {
      "cell_type": "markdown",
      "metadata": {
        "id": "_lLth5wOE9cU"
      },
      "source": [
        "## Part 2: loc vs. iloc"
      ]
    },
    {
      "cell_type": "code",
      "metadata": {
        "id": "i0SMMhfqE796"
      },
      "source": [
        "titanic.loc[886];  ## 886 is really a \"name\", not a number\n",
        "titanic.iloc[886];  ## 886 is now a index number using iLoc\n",
        "\n",
        "subset = titanic.loc[880:885]\n",
        "\n",
        "subset.loc[880] #works\n",
        "subset.iloc[880] #broken.... how would you fix it?"
      ],
      "execution_count": null,
      "outputs": []
    },
    {
      "cell_type": "markdown",
      "metadata": {
        "id": "uoDngMx_FKnA"
      },
      "source": [
        "## Part 3: Subsetting using series"
      ]
    },
    {
      "cell_type": "code",
      "metadata": {
        "id": "HcOd7Ve8FE8X"
      },
      "source": [
        "# can compare the value of an entire series!\n",
        "titanic['deck'] == 'B'"
      ],
      "execution_count": null,
      "outputs": []
    },
    {
      "cell_type": "code",
      "metadata": {
        "id": "CO6oPaF0FPx2"
      },
      "source": [
        "# can use this series of Trues and Falses to get a subset of the data\n",
        "deckB = titanic[ titanic['deck'] == 'B']\n",
        "#returns a dataframe where only where deck is B\n",
        "deckB.head()"
      ],
      "execution_count": null,
      "outputs": []
    },
    {
      "cell_type": "code",
      "metadata": {
        "id": "5DImUCZwFSp4"
      },
      "source": [
        "#combine two series using and (&)\n",
        "deckBFemale = titanic[ (titanic['deck'] == 'B') & (titanic['sex'] == 'female') ]\n",
        "deckBFemale.head()"
      ],
      "execution_count": null,
      "outputs": []
    },
    {
      "cell_type": "markdown",
      "metadata": {
        "id": "DeP5ZumiF0kd"
      },
      "source": [
        "## Part 4: Some handy functions"
      ]
    },
    {
      "cell_type": "code",
      "metadata": {
        "id": "tt_V50L_FUcq"
      },
      "source": [
        "#now can use this as a subset\n",
        "deckB['age'].mean()"
      ],
      "execution_count": null,
      "outputs": []
    },
    {
      "cell_type": "code",
      "metadata": {
        "id": "8UemLNWlF6TH"
      },
      "source": [
        "# we can use functions like mean(), median(), std(), etc on a dataframe\n",
        "deckB['age'].median()"
      ],
      "execution_count": null,
      "outputs": []
    },
    {
      "cell_type": "code",
      "metadata": {
        "id": "iQR6eUI5F9Ao"
      },
      "source": [
        "# describe() will print out the count, mean, standard deviation, and give an idea of the distrubtion of the numeric categories\n",
        "deckB.describe()"
      ],
      "execution_count": null,
      "outputs": []
    },
    {
      "cell_type": "code",
      "metadata": {
        "id": "en36U60TF--U"
      },
      "source": [
        "# The hist() function will display a histogram of the data you pass it.\n",
        "deckB['survived'].hist()"
      ],
      "execution_count": null,
      "outputs": []
    },
    {
      "cell_type": "code",
      "metadata": {
        "id": "eQUfQscZFWnL"
      },
      "source": [
        "#doing arithmetic on groups within the dataframe\n",
        "titanic.groupby(['pclass'])['age'].mean()"
      ],
      "execution_count": null,
      "outputs": []
    },
    {
      "cell_type": "code",
      "metadata": {
        "id": "aK96ub6JFdKQ"
      },
      "source": [
        "#seeing all of the possible values of a column:\n",
        "titanic['class'].unique()"
      ],
      "execution_count": null,
      "outputs": []
    },
    {
      "cell_type": "code",
      "metadata": {
        "id": "yE9BBbx9FsMI"
      },
      "source": [
        ""
      ],
      "execution_count": null,
      "outputs": []
    }
  ]
}